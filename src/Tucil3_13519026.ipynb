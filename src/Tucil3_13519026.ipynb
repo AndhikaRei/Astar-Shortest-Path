{
 "cells": [
  {
   "cell_type": "code",
   "execution_count": null,
   "metadata": {
    "scrolled": false
   },
   "outputs": [],
   "source": [
    "import folium\n",
    "from folium import plugins\n",
    "import ipywidgets\n",
    "import geocoder\n",
    "import geopy\n",
    "import numpy as np\n",
    "import pandas as pd"
   ]
  },
  {
   "cell_type": "code",
   "execution_count": null,
   "metadata": {
    "scrolled": true
   },
   "outputs": [],
   "source": [
    "import Astar\n",
    "import Graph\n",
    "import Haversine\n",
    "import Parser\n",
    "import math"
   ]
  },
  {
   "cell_type": "code",
   "execution_count": null,
   "metadata": {},
   "outputs": [],
   "source": [
    "from Graph import Graph\n",
    "from Astar import astar_find\n",
    "from Parser import Parser"
   ]
  },
  {
   "cell_type": "code",
   "execution_count": null,
   "metadata": {},
   "outputs": [],
   "source": [
    "#  Membaca input dari file txt dan menulisnya ke layar\n",
    "import os\n",
    "os.chdir(\"..\") # Pindah ke directory atas\n",
    "filename = input(\"Masukkan nama file (tanpa ekstensi): \")\n",
    "filecontent = Parser()\n",
    "filecontent.read_from_file(filename)\n",
    "filecontent.display_attr(node=True,bool_adj=True,graph_adj=True)\n",
    "\n",
    "graph = filecontent.graph"
   ]
  },
  {
   "cell_type": "code",
   "execution_count": null,
   "metadata": {},
   "outputs": [],
   "source": [
    "list_of_adj = graph.adj\n",
    "list_of_route = []\n",
    "for i in range(len(list_of_adj)):\n",
    "    for j in range(len(list_of_adj[i])):\n",
    "        tempRoute=[[graph.find_node(index=int(i)).latitude,graph.find_node(index=int(i)).longitude]]\n",
    "        if(list_of_adj[i][j]!=math.inf):\n",
    "            tempRoute.append([graph.find_node(index=int(j)).latitude,graph.find_node(index=int(j)).longitude])\n",
    "        list_of_route.append(tempRoute)"
   ]
  },
  {
   "cell_type": "code",
   "execution_count": null,
   "metadata": {
    "scrolled": true
   },
   "outputs": [],
   "source": [
    "list_of_node = graph.list_of_node\n",
    "\n",
    "\n",
    "# create map\n",
    "map_cities = folium.Map(location=[list_of_node[0].latitude, list_of_node[1].longitude], zoom_start=17, control_scale=True)\n",
    "\n",
    "# plot locations\n",
    "for node in list_of_node :\n",
    "    folium.Marker(location=[node.latitude, node.longitude], popup=node.name).add_to(map_cities)\n",
    "\n",
    "# plot route for each marker\n",
    "for route in list_of_route:\n",
    "    folium.PolyLine(route, color=\"blue\", weight=1).add_to(map_cities)\n",
    "\n",
    "# display map    \n",
    "map_cities"
   ]
  },
  {
   "cell_type": "code",
   "execution_count": null,
   "metadata": {},
   "outputs": [],
   "source": [
    "start_node_name = input(\"Masukkan nama node awal: \")\n",
    "end_node_name = input(\"Masukkan nama node tujuan: \")\n",
    "start_node = graph.find_node(name=start_node_name)\n",
    "end_node = graph.find_node(name=end_node_name)"
   ]
  },
  {
   "cell_type": "code",
   "execution_count": null,
   "metadata": {},
   "outputs": [],
   "source": [
    "path = astar_find(graph,start_node,end_node)\n",
    "path"
   ]
  },
  {
   "cell_type": "code",
   "execution_count": null,
   "metadata": {},
   "outputs": [],
   "source": [
    "path = path.split('-')\n",
    "path"
   ]
  },
  {
   "cell_type": "code",
   "execution_count": null,
   "metadata": {},
   "outputs": [],
   "source": [
    "list_of_node =[]\n",
    "route = []\n",
    "for x in path:\n",
    "    list_of_node.append(graph.find_node(index=int(x)))\n",
    "for x in list_of_node:\n",
    "    route.append([x.latitude, x.longitude])\n",
    "route"
   ]
  },
  {
   "cell_type": "code",
   "execution_count": null,
   "metadata": {},
   "outputs": [],
   "source": [
    "# add route to map\n",
    "folium.PolyLine(route, color=\"red\", weight=8).add_to(map_cities)\n",
    "# display map\n",
    "map_cities"
   ]
  },
  {
   "cell_type": "code",
   "execution_count": null,
   "metadata": {},
   "outputs": [],
   "source": []
  }
 ],
 "metadata": {
  "kernelspec": {
   "display_name": "Python 3",
   "language": "python",
   "name": "python3"
  },
  "language_info": {
   "codemirror_mode": {
    "name": "ipython",
    "version": 3
   },
   "file_extension": ".py",
   "mimetype": "text/x-python",
   "name": "python",
   "nbconvert_exporter": "python",
   "pygments_lexer": "ipython3",
   "version": "3.9.1"
  }
 },
 "nbformat": 4,
 "nbformat_minor": 4
}
