{
 "cells": [
  {
   "cell_type": "markdown",
   "metadata": {},
   "source": [
    "# A* Pathfinding In Map\n",
    "Dibuat Untuk Memenuhi Tugas Kecil 3 IF 2211 Strategi Algoritma Semester II 2020/2021. <br>\n",
    "Created by: <br>\n",
    "1. Gde Anantha Priharsena 13519028 <br>\n",
    "2. Reihan Andhika Putra 13519043 \n"
   ]
  },
  {
   "cell_type": "markdown",
   "metadata": {},
   "source": [
    "# PROGRAM"
   ]
  },
  {
   "cell_type": "markdown",
   "metadata": {},
   "source": [
    "## Section 1 - Import Library dan Kode Yang Sudah Dibuat\n",
    "Library yang digunakan untuk memvisualisasi peta adalah folium, ipywidgets, geocoder dan geopy. Library Numpy, pandas, dan math digunakan untuk membantu perhitungan. Kode yang sudah dibuat terletak pada folder src(sama seperti notebook ini). File kode yang digunakan di notebook ini adalah Astar.py, Graph.py, Haversine.py, dan Parser.py. Library os digunakan supaya notebook ini bisa membaca file dari direktori yang berbeda."
   ]
  },
  {
   "cell_type": "code",
   "execution_count": null,
   "metadata": {},
   "outputs": [],
   "source": [
    "# Import library yang dibutuhkan untuk visualisasi\n",
    "import folium\n",
    "from folium import plugins\n",
    "import numpy as np\n",
    "import pandas as pd\n",
    "\n",
    "# Import kode yang sudah dibuat \n",
    "import Astar\n",
    "import Graph\n",
    "import Haversine\n",
    "import Parser\n",
    "import math\n",
    "\n",
    "# Import fungsi spesifik\n",
    "from Graph import Graph\n",
    "from Astar import astar_find\n",
    "from Parser import Parser\n",
    "\n",
    "# Import library os untuk pindah direktori supaya bisa mendapatkan file testcase\n",
    "import os\n",
    "os.chdir(\"..\") # Pindah ke direktori atas"
   ]
  },
  {
   "cell_type": "markdown",
   "metadata": {},
   "source": [
    "## Section 2 - Baca File dan Visualisasi Peta Awal\n",
    "Melakukan pembacaan file eksternal dan memvisualisasikan graf beserta peta dari file eksternal tersebut. Tahap-tahap yang harus dilalui adalah sebagai berikut\n",
    "1. Masukkan nama file eksternal dengan benar \n",
    "2. Apabila ditemukan error karena nama file yang dimasukkan salah, run kembali cellnya dan masukkan nama file hingga benar\n",
    "3. Program akan menampilkan peta beserta graf dari file eksternal\n",
    "4. Apabila peta atau graf kurang jelas, cobalah zoom-in atau zoom-out hingga peta dan graf enak untuk dilihat\n",
    "5. Tekanlah marker yang ada di peta untuk melihat nama dari simpul yang ada di graf"
   ]
  },
  {
   "cell_type": "code",
   "execution_count": null,
   "metadata": {},
   "outputs": [],
   "source": [
    "#  Membaca input dari file txt dan menjadikannya dalam bentuk graf\n",
    "print(\"Nama File yang tersedia :\")\n",
    "print(\"1.ITB\")\n",
    "print(\"2.Alun-Alun\")\n",
    "print(\"3.Buah-Batu\")\n",
    "print(\"4.Bojonegoro\")\n",
    "print(\"5.Bogor\")\n",
    "print(\"6.Jakarta\")\n",
    "filename = input(\"Masukkan nama file (tanpa ekstensi): \")\n",
    "filecontent = Parser()\n",
    "try:\n",
    "    filecontent.read_from_file(filename)\n",
    "    graph = filecontent.graph\n",
    "except:\n",
    "    print(\"Tidak ada file dengan ekstensi tersebut\")"
   ]
  },
  {
   "cell_type": "code",
   "execution_count": null,
   "metadata": {},
   "outputs": [],
   "source": [
    "# Membentuk rute awal pada peta yang akan digambar\n",
    "list_of_adj = graph.adj\n",
    "list_of_route = []\n",
    "for i in range(len(list_of_adj)):\n",
    "    for j in range(len(list_of_adj[i])):\n",
    "        tempRoute=[[graph.find_node(index=int(i)).latitude,graph.find_node(index=int(i)).longitude]]\n",
    "        if(list_of_adj[i][j]!=math.inf):\n",
    "            tempRoute.append([graph.find_node(index=int(j)).latitude,graph.find_node(index=int(j)).longitude])\n",
    "        list_of_route.append(tempRoute)\n",
    "\n",
    "list_of_node = graph.list_of_node\n",
    "\n",
    "# create map\n",
    "map_cities = folium.Map(location=[list_of_node[5].latitude, list_of_node[5].longitude], zoom_start=15, control_scale=True)\n",
    "\n",
    "# plot locations\n",
    "for node in list_of_node :\n",
    "    folium.Marker(location=[node.latitude, node.longitude], popup=node.name).add_to(map_cities)\n",
    "\n",
    "# plot route for each marker\n",
    "for route in list_of_route:\n",
    "    folium.PolyLine(route, color=\"blue\", weight=1).add_to(map_cities)\n",
    "\n",
    "# display map    \n",
    "map_cities"
   ]
  },
  {
   "cell_type": "markdown",
   "metadata": {},
   "source": [
    "## Section 3 - Membaca Simpul Awal, Tujuan dan Menampilkan Lintasan Terpendek\n",
    "Melakukan pembacaan simpul awal dan tujuan kemudian menampilkan lintasan terpendek dari node awal ke tujuan dengan menggunakan algoritma astar. Tahap-tahap yang harus dilalui adalah sebagai berikut\n",
    "1. Masukkan nama simpul awal dan tujuan dengan benar, nama simpul bisa dilihat dengan menekan marker pada peta \n",
    "2. Apabila ditemukan error karena nama simpul yang dimasukkan salah, run kembali cellnya dan masukkan nama simpul hingga benar\n",
    "3. Program akan menampilkan peta beserta lintasan terpendeknya dengan jalur yang berwarna merah\n",
    "4. Diatas peta, program juga akan menampilkan panjangnya jalan yang ditempuh"
   ]
  },
  {
   "cell_type": "code",
   "execution_count": null,
   "metadata": {},
   "outputs": [],
   "source": [
    "# Masukkan nama simpul awal dan simpul tujuan\n",
    "start_node_name = input(\"Masukkan nama simpul awal: \")\n",
    "end_node_name = input(\"Masukkan nama simpul tujuan: \")\n",
    "\n",
    "# Cari simpul dengan nama tersebut di dalam graf\n",
    "try:\n",
    "    start_node = graph.find_node(name=start_node_name)\n",
    "    end_node = graph.find_node(name=end_node_name)\n",
    "except:\n",
    "    print(\"Tidak ada node dengan nama tersebut\")"
   ]
  },
  {
   "cell_type": "code",
   "execution_count": null,
   "metadata": {},
   "outputs": [],
   "source": [
    "# Melakukan pencarian dengan algoritma astar\n",
    "result = astar_find(graph,start_node,end_node)\n",
    "path = result[0]\n",
    "price = result[1]\n",
    "\n",
    "# Jika tidak ditemukan jalur\n",
    "if (path==None):\n",
    "    print(\"Tidak ada jalur ditemukan\")\n",
    "    \n",
    "# Bentuk rute dari path yang didapat\n",
    "path = path.split('-')\n",
    "list_of_node =[]\n",
    "route = []\n",
    "for x in path:\n",
    "    list_of_node.append(graph.find_node(index=int(x)))\n",
    "for x in list_of_node:\n",
    "    route.append([x.latitude, x.longitude])\n",
    "    \n",
    "# tambahkan rute ke peta\n",
    "plugins.AntPath(route, color=\"red\", weight=8).add_to(map_cities)\n",
    "\n",
    "# tampilkan harga\n",
    "print(\"Panjang perjalanan yang harus ditempuh adalah \"+str(price)+\" m\")\n",
    "# tampilkan peta\n",
    "map_cities"
   ]
  },
  {
   "cell_type": "markdown",
   "metadata": {},
   "source": [
    "## Section 4 - Lampiran\n",
    "Akan ditampilkan booleand adjacency matrix (dari file .txt), info node(dari graf yang dibuat), dan weighted adjacency matrix(dari graf). Bagian ini bisa digunakan untuk mengkoreksi apakah A* yang dibuat sudah menghasilkan jalur terpendek atau tidak. <br>\n",
    "Funfact : Seringkali jika dilihat dengan mata, jalur yang terpilih bukanlah jalur terpendek namun saat dihitung ternyata selisihnya dengan jalur lain cuma 1-2 meter saja :D jadi silahkan dikoreksi dengan perhitungan"
   ]
  },
  {
   "cell_type": "code",
   "execution_count": null,
   "metadata": {},
   "outputs": [],
   "source": [
    "filecontent.display_attr(node=True,bool_adj=True,graph_adj=True)"
   ]
  },
  {
   "cell_type": "markdown",
   "metadata": {},
   "source": [
    "## Melakukan Pencarian Lagi\n",
    "Apabila ingin melakukan pencarian lagi, ada beberapa cara yang bisa dilakukan. <br>\n",
    "Cara 1 <br>\n",
    "Pilih \"Kernel\" pada toolbar di atas Jupyter Notebook. Setelah itu pilih \"Restart & Clear Output\" untuk merestart notebook. Setelah itu anda bisa run cell nya satu per-satu lagi dari awal. <br>\n",
    "Cara 2 <br>\n",
    "Pilih \"Kernel\" pada toolbar di atas Jupyter Notebook. Setelah itu pilih \"Restart & Run All\" untuk merestart notebook dan run semua cell nya satu persatu. Apabila menggunakan cara ini pastikan input selalu benar di setiap tahap. <br>\n",
    "Cara 3 <br>\n",
    "Run cell nya satu persatu mulai dari Section 2 agar input peta bisa terefresh, jangan mulai dari section 1. Apabila ada hal aneh yang terjadi maka gunakan cara 1 atau cara 2 saja. <br> "
   ]
  },
  {
   "cell_type": "code",
   "execution_count": null,
   "metadata": {},
   "outputs": [],
   "source": []
  }
 ],
 "metadata": {
  "kernelspec": {
   "display_name": "Python 3",
   "language": "python",
   "name": "python3"
  },
  "language_info": {
   "codemirror_mode": {
    "name": "ipython",
    "version": 3
   },
   "file_extension": ".py",
   "mimetype": "text/x-python",
   "name": "python",
   "nbconvert_exporter": "python",
   "pygments_lexer": "ipython3",
   "version": "3.7.3"
  }
 },
 "nbformat": 4,
 "nbformat_minor": 4
}
